{
  "cells": [
    {
      "cell_type": "code",
      "execution_count": 1,
      "metadata": {
        "id": "cipmhY9vx6tM"
      },
      "outputs": [],
      "source": [
        "import cv2\n",
        "import matplotlib.pyplot as plt\n",
        "import numpy as np\n",
        "from numpy import linalg as LA\n",
        "from sklearn.preprocessing import StandardScaler\n",
        "import random\n",
        "\n",
        "import tensorflow as tf\n",
        "from tensorflow.keras import Sequential\n",
        "from tensorflow.keras.layers import Dense, Conv2D, MaxPooling2D, UpSampling2D\n",
        "from tensorflow.keras import losses\n",
        "from sklearn.model_selection import train_test_split"
      ]
    },
    {
      "cell_type": "code",
      "source": [
        "from google.colab import drive\n",
        "drive.mount('/content/drive')"
      ],
      "metadata": {
        "id": "jMFWwRUv2a8N",
        "outputId": "f9c9e862-3245-4450-f58f-9216fd294cbc",
        "colab": {
          "base_uri": "https://localhost:8080/"
        }
      },
      "execution_count": 2,
      "outputs": [
        {
          "output_type": "stream",
          "name": "stdout",
          "text": [
            "Drive already mounted at /content/drive; to attempt to forcibly remount, call drive.mount(\"/content/drive\", force_remount=True).\n"
          ]
        }
      ]
    },
    {
      "cell_type": "markdown",
      "metadata": {
        "id": "iKqirBpycBTr"
      },
      "source": [
        "# **Preprocessing**"
      ]
    },
    {
      "cell_type": "code",
      "execution_count": 3,
      "metadata": {
        "colab": {
          "base_uri": "https://localhost:8080/"
        },
        "id": "jxeivUp_WMb5",
        "outputId": "421969d0-9c36-4a45-c9c4-8ef893532c03"
      },
      "outputs": [
        {
          "output_type": "stream",
          "name": "stdout",
          "text": [
            "24.0\n"
          ]
        }
      ],
      "source": [
        "# vidcap = cv2.VideoCapture('/content/drive/MyDrive/3CYL_Flow.mp4')\n",
        "vidcap = cv2.VideoCapture('/content/drive/MyDrive/Fluid Mechanics/3CYL_Flow.mp4')\n",
        "target_fps = 5\n",
        "fps = vidcap.get(cv2.CAP_PROP_FPS)\n",
        "print(fps)\n",
        "frame_count = int(vidcap.get(cv2.CAP_PROP_FRAME_COUNT))\n",
        "\n",
        "skip_interval = int(round(fps / target_fps)) - 1\n",
        "success, image = vidcap.read()\n",
        "\n",
        "count = 0\n",
        "rows = 0\n",
        "columns = 0\n",
        "image_size = 0\n",
        "flag = 0\n",
        "frames = 0\n",
        "\n",
        "while success:\n",
        "    success, image = vidcap.read()\n",
        "    if count % skip_interval == 0 and success:\n",
        "        # cv2.imwrite(f\"/content/frames{num}.jpg\", image)\n",
        "        cv2.imwrite(f\"/content/drive/MyDrive/Fluid Mechanics\\Frame{frames}.jpg\", image)\n",
        "        frames +=1\n",
        "        if flag == 0:\n",
        "            rows = image.shape[0]\n",
        "            columns = image.shape[1]\n",
        "            image_size = rows * columns\n",
        "            flag = 1\n",
        "\n",
        "    if count >= frame_count or not success:\n",
        "        break\n",
        "\n",
        "    count += 1\n",
        "\n",
        "vidcap.release()\n",
        "# frames = num\n",
        "\n",
        "# '/content/drive/MyDrive/3CYL_Flow.mp4'\n",
        "# 'Fluid Mechanics\\CYL_Flow.mp4'"
      ]
    },
    {
      "cell_type": "code",
      "execution_count": 4,
      "metadata": {
        "id": "Mv0q0fVysUjn"
      },
      "outputs": [],
      "source": [
        "def save_image(data, colour, file_name):\n",
        "\n",
        "    sizes = np.shape(data)\n",
        "    height = float(sizes[0])\n",
        "    width = float(sizes[1])\n",
        "\n",
        "    fig = plt.figure()\n",
        "    fig.set_size_inches(width/height, 1, forward=False)\n",
        "    ax = plt.Axes(fig, [0., 0., 1., 1.])\n",
        "    ax.set_axis_off()\n",
        "    fig.add_axes(ax)\n",
        "\n",
        "    ax.imshow(data, cmap=colour)\n",
        "    plt.savefig(file_name, dpi = height)\n",
        "    plt.close()"
      ]
    },
    {
      "cell_type": "code",
      "execution_count": 5,
      "metadata": {
        "id": "syqgRxMX86TQ"
      },
      "outputs": [],
      "source": [
        "def GaussianNoise(img, perc_noise):\n",
        "    mean = 0\n",
        "    var = perc_noise\n",
        "    sigma = var ** 0.5\n",
        "    gaussian = np.random.normal(mean, perc_noise, (rows, columns)) #  np.zeros((224, 224), np.float32)\n",
        "\n",
        "    noisy_image = np.zeros(img.shape, np.float32)\n",
        "\n",
        "    if len(img.shape) == 2:\n",
        "        noisy_image = img + gaussian\n",
        "    else:\n",
        "        noisy_image[:, :, 0] = img[:, :, 0] + gaussian\n",
        "        noisy_image[:, :, 1] = img[:, :, 1] + gaussian\n",
        "        noisy_image[:, :, 2] = img[:, :, 2] + gaussian\n",
        "\n",
        "    cv2.normalize(noisy_image, noisy_image, 0, 255, cv2.NORM_MINMAX, dtype=-1)\n",
        "    noisy_image = noisy_image.astype(np.uint8)\n",
        "    return noisy_image, gaussian"
      ]
    },
    {
      "cell_type": "code",
      "execution_count": 6,
      "metadata": {
        "id": "aOnXQxAr86TQ"
      },
      "outputs": [],
      "source": [
        "def SaltPepperNoise(img, percent_noise):\n",
        "    noisy = img\n",
        "    number_of_pixels = int(percent_noise*image_size/200)\n",
        "    for i in range(number_of_pixels):\n",
        "        y_coord=random.randint(0, rows - 1)\n",
        "        x_coord=random.randint(0, columns - 1)\n",
        "        noisy[y_coord][x_coord] = 255\n",
        "\n",
        "    # number_of_pixels = random.randint(300 , 10000)\n",
        "    for i in range(number_of_pixels):\n",
        "        y_coord=random.randint(0, rows - 1)\n",
        "        x_coord=random.randint(0, columns - 1)\n",
        "        noisy[y_coord][x_coord] = 0\n",
        "\n",
        "    return noisy"
      ]
    },
    {
      "cell_type": "code",
      "execution_count": 7,
      "metadata": {
        "id": "8HKQQtAj_rMG",
        "outputId": "d935bd68-4850-4e26-f89e-760d59f81385",
        "colab": {
          "base_uri": "https://localhost:8080/"
        }
      },
      "outputs": [
        {
          "output_type": "stream",
          "name": "stdout",
          "text": [
            "(1103064, 188, 3)\n"
          ]
        }
      ],
      "source": [
        "def load_video_data(rows, columns, image_size, frames, Noise = None, percent_noise = 0, plt1 = False):\n",
        "  # rows = 708\n",
        "  # columns = 1558\n",
        "  # image_size = rows * columns\n",
        "  # frames = 30\n",
        "\n",
        "  # string = f\"/content/frames0.jpg\"\n",
        "  string = f\"/content/drive/MyDrive/Fluid Mechanics\\Frame0.jpg\"\n",
        "  image = cv2.imread(string)\n",
        "  if Noise == 'Gaussian':\n",
        "      noisy, gauss = GaussianNoise(image, percent_noise)\n",
        "      # noisy = cv2.cvtColor(noisy, cv2.COLOR_BGR2RGB)\n",
        "      image = np.round(noisy).astype('uint8')\n",
        "  if Noise == 'SaltPepper':\n",
        "      noisy = SaltPepperNoise(image, percent_noise)\n",
        "      image = noisy\n",
        "  if plt1 == True:\n",
        "      plt.imshow(image)\n",
        "  data = image.reshape(image_size, 1, 3)\n",
        "\n",
        "  for i in range(1, frames):\n",
        "    if i < 10:\n",
        "      # string = f\"/content/frames{i}.jpg\"\n",
        "      string = f\"/content/drive/MyDrive/Fluid Mechanics\\Frame{i}.jpg\"\n",
        "    else:\n",
        "      # string = f\"/content/frames{i}.jpg\"\n",
        "      string = f\"/content/drive/MyDrive/Fluid Mechanics\\Frame{i}.jpg\"\n",
        "\n",
        "    image = cv2.imread(string)\n",
        "    # print(type(image))\n",
        "    if Noise == 'Gaussian':\n",
        "      noisy, gauss = GaussianNoise(image, percent_noise)\n",
        "      # noisy = cv2.cvtColor(noisy, cv2.COLOR_BGR2RGB)\n",
        "      image = np.round(noisy).astype('uint8')\n",
        "    if Noise == 'SaltPepper':\n",
        "      noisy = SaltPepperNoise(image, percent_noise)\n",
        "      image = noisy\n",
        "    frame_data = image.reshape(image_size, 1, 3)\n",
        "    data = np.concatenate((data, frame_data), axis=1)\n",
        "    # print(i)\n",
        "\n",
        "  return data\n",
        "\n",
        "def HSV_Processing(data):\n",
        "  print(data.shape)\n",
        "  hsv = cv2.cvtColor(data, cv2.COLOR_BGR2HSV)\n",
        "  hsv = 2*hsv[:,:,0]\n",
        "  return hsv\n",
        "\n",
        "dataset_original = load_video_data(rows, columns, image_size, frames)\n",
        "dataset = HSV_Processing(dataset_original)"
      ]
    },
    {
      "cell_type": "code",
      "execution_count": 8,
      "metadata": {
        "colab": {
          "base_uri": "https://localhost:8080/"
        },
        "id": "DFGZrm2-hOna",
        "outputId": "159ad8f0-6083-4400-ffb2-4278ea9facf0"
      },
      "outputs": [
        {
          "output_type": "stream",
          "name": "stdout",
          "text": [
            "(1103064, 188)\n"
          ]
        }
      ],
      "source": [
        "print(dataset.shape)"
      ]
    },
    {
      "cell_type": "markdown",
      "metadata": {
        "id": "DDjMuVEBcNBz"
      },
      "source": [
        "**Scaling**"
      ]
    },
    {
      "cell_type": "code",
      "execution_count": 9,
      "metadata": {
        "colab": {
          "base_uri": "https://localhost:8080/"
        },
        "id": "Rs1091r85V6W",
        "outputId": "5283b809-36c5-4625-d7ff-9f46956e2d30"
      },
      "outputs": [
        {
          "output_type": "stream",
          "name": "stdout",
          "text": [
            "[[68 68 68 ... 68 70 70]\n",
            " [68 68 68 ... 68 70 70]\n",
            " [68 68 68 ... 68 70 70]\n",
            " ...\n",
            " [78 78 78 ... 92 90 90]\n",
            " [78 78 78 ... 94 90 90]\n",
            " [78 78 78 ... 94 90 90]]\n",
            "[[1.42399524 0.98585026 0.74270794 ... 0.57210153 0.78557177 0.76741959]\n",
            " [1.42399524 0.98585026 0.74270794 ... 0.57210153 0.78557177 0.76741959]\n",
            " [1.42399524 0.98585026 0.74270794 ... 0.57210153 0.78557177 0.76741959]\n",
            " ...\n",
            " [3.25071492 2.28601092 1.74809557 ... 2.77537269 2.68154614 2.6184473 ]\n",
            " [3.25071492 2.28601092 1.74809557 ... 2.95897862 2.68154614 2.6184473 ]\n",
            " [3.25071492 2.28601092 1.74809557 ... 2.95897862 2.68154614 2.6184473 ]]\n"
          ]
        }
      ],
      "source": [
        "scaler = StandardScaler()\n",
        "def Scaling(data):\n",
        "  scaler.fit(data)\n",
        "  A = scaler.transform(data)\n",
        "  return A\n",
        "\n",
        "A = Scaling(dataset)\n",
        "print(dataset)\n",
        "print(A)"
      ]
    },
    {
      "cell_type": "markdown",
      "metadata": {
        "id": "5-FLCxwecY-q"
      },
      "source": [
        "**Singular Value Decomposition**"
      ]
    },
    {
      "cell_type": "code",
      "execution_count": 10,
      "metadata": {
        "id": "wpcgtP5e9lWo",
        "outputId": "5c62d0a1-fc07-488f-90e7-2a764032d840",
        "colab": {
          "base_uri": "https://localhost:8080/"
        }
      },
      "outputs": [
        {
          "output_type": "stream",
          "name": "stdout",
          "text": [
            "(188,)\n",
            "(1103064, 188)\n"
          ]
        }
      ],
      "source": [
        "def SVD(A, frames):\n",
        "  A_T = np.transpose(A)\n",
        "  A_2 = np.matmul(A_T, A)\n",
        "  eigenvalues, V = LA.eig(A_2)\n",
        "  E = np.zeros((frames,frames))\n",
        "  for i in range(frames):\n",
        "    E[i][i] = np.sqrt(eigenvalues[i])\n",
        "  print(eigenvalues.shape)\n",
        "\n",
        "  V_T = np.transpose(V)\n",
        "  V_T_inv = LA.inv(V_T)\n",
        "  E_inv = LA.inv(E)\n",
        "  U1 = np.dot(A,V_T_inv)\n",
        "  print(U1.shape)\n",
        "  U = np.dot(U1, E_inv)\n",
        "  return U, E, V_T, eigenvalues\n",
        "\n",
        "U, E, V_T, eigenvalues = SVD(A, frames)\n",
        "sorted_eigens = np.argsort(eigenvalues)[::-1]\n",
        "# print(sorted_eigens)"
      ]
    },
    {
      "cell_type": "code",
      "execution_count": 11,
      "metadata": {
        "colab": {
          "base_uri": "https://localhost:8080/",
          "height": 1000
        },
        "id": "4gGW8Y1ZZCT7",
        "outputId": "8d912398-fbdb-47e3-fe04-79320e650fe7"
      },
      "outputs": [
        {
          "output_type": "stream",
          "name": "stdout",
          "text": [
            "Number of components to retain 90.0% variance: 57\n"
          ]
        },
        {
          "output_type": "display_data",
          "data": {
            "text/plain": [
              "<Figure size 800x600 with 1 Axes>"
            ],
            "image/png": "[encoded data removed]"
          },
          "metadata": {}
        },
        {
          "output_type": "display_data",
          "data": {
            "text/plain": [
              "<Figure size 800x600 with 1 Axes>"
            ],
            "image/png": "[encoded data removed]"
          },
          "metadata": {}
        }
      ],
      "source": [
        "def Required_Modes(required_variance, eigenvalues, EvsM = False, VarvsM = False, Plots = False):\n",
        "  components = np.arange(1, frames+1, 1, dtype=int)\n",
        "  cumulative_variance = np.zeros(len(eigenvalues))\n",
        "  total = np.sum(eigenvalues)\n",
        "  for i in range(len(eigenvalues)):\n",
        "    j=0\n",
        "    while j!=i+1:\n",
        "      cumulative_variance[i] += eigenvalues[j]/total\n",
        "      j+=1\n",
        "  if EvsM:\n",
        "    plt.figure(figsize=(8, 6))\n",
        "    plt.bar(components, eigenvalues)\n",
        "    plt.title('Energy vs Mode')\n",
        "    plt.xlabel('Energy')\n",
        "    plt.ylabel('Mode')\n",
        "\n",
        "  if VarvsM:\n",
        "    plt.figure(figsize=(8, 6))\n",
        "    plt.plot(components, cumulative_variance)\n",
        "    plt.xlabel('Number of Modes')\n",
        "    plt.ylabel('Cumulative Variance')\n",
        "    plt.title('Cumulative Variance vs. Number of Modes')\n",
        "    plt.grid(True)\n",
        "\n",
        "  n=0\n",
        "  # required_variance = 0.90\n",
        "  for i in range(len(cumulative_variance)):\n",
        "    if cumulative_variance[i] - required_variance > 0:\n",
        "      n = n + i\n",
        "      break\n",
        "\n",
        "  if VarvsM:\n",
        "    plt.plot(n+1, cumulative_variance[n], marker=\"o\", markersize=10, markerfacecolor=\"red\")\n",
        "    print(f\"Number of components to retain {required_variance * 100}% variance: {n+1}\", end = \"\\n\")\n",
        "\n",
        "  if Plots == False:\n",
        "    return n\n",
        "  else:\n",
        "    return n, components, eigenvalues, cumulative_variance\n",
        "\n",
        "n = Required_Modes(0.9, eigenvalues, True, True)"
      ]
    },
    {
      "cell_type": "markdown",
      "metadata": {
        "id": "VL6zWsv-dUno"
      },
      "source": [
        "**Dimensional Reduction**"
      ]
    },
    {
      "cell_type": "code",
      "execution_count": 12,
      "metadata": {
        "id": "WWkYkdMLr4dw"
      },
      "outputs": [],
      "source": [
        "def Dim_Reduction(U,E,V_T,n):\n",
        "  U_Reduced = U[:, 0:n]\n",
        "  E_Reduced = E[0:n, 0:n]\n",
        "  V_T_Reduced = V_T[0:n, :]\n",
        "  A_Reduced1 = np.dot(U_Reduced,E_Reduced)\n",
        "  A_Reduced = np.dot(A_Reduced1, V_T_Reduced)\n",
        "\n",
        "  data_Reduced = scaler.inverse_transform(A_Reduced)\n",
        "  data_Reduced = np.round(data_Reduced).astype('uint8')\n",
        "  return data_Reduced\n",
        "\n",
        "data_Reduced = Dim_Reduction(U,E,V_T,n)"
      ]
    },
    {
      "cell_type": "markdown",
      "metadata": {
        "id": "Hpq2Xs5XdcID"
      },
      "source": [
        "**Converting to 3D HSV Image**"
      ]
    },
    {
      "cell_type": "code",
      "execution_count": null,
      "metadata": {
        "id": "Zh0IqMBsyZ6n"
      },
      "outputs": [],
      "source": [
        "def Image_Reconstruction(image_size, frames, data_Reduced):\n",
        "  Saturation = np.full((image_size, frames), 254).astype(np.uint8)\n",
        "  HSV_value = np.full((image_size, frames), 254).astype(np.uint8)\n",
        "  data_Reduced = np.divide(data_Reduced,2)\n",
        "  Images_Reduced = np.stack((data_Reduced,Saturation,HSV_value),axis=2)\n",
        "  Images_Reduced = Images_Reduced.astype(np.uint8)\n",
        "  return Images_Reduced\n",
        "\n",
        "Images_Reduced = Image_Reconstruction(image_size, frames, data_Reduced)"
      ]
    },
    {
      "cell_type": "markdown",
      "metadata": {
        "id": "tKvQz41jdg6H"
      },
      "source": [
        "**Plotting**"
      ]
    },
    {
      "cell_type": "code",
      "execution_count": null,
      "metadata": {
        "id": "k7SBpD93zOrm"
      },
      "outputs": [],
      "source": [
        "index = 18\n",
        "Recreated_HSV = Images_Reduced[:, index, :].reshape((rows,columns,3))\n",
        "\n",
        "Recreated_RGB = cv2.cvtColor(Recreated_HSV, cv2.COLOR_HSV2RGB)\n",
        "img_BGR = cv2.imread(f\"Fluid Mechanics\\Frame{index}.jpg\")\n",
        "img_RGB = cv2.cvtColor(img_BGR, cv2.COLOR_BGR2RGB)\n",
        "\n",
        "plt.figure(figsize=(17, 10))\n",
        "plt.subplot(2,2,1)\n",
        "plt.imshow(img_RGB)\n",
        "plt.title(f\"Original Frame {index+1}\")\n",
        "plt.subplot(2,2,2)\n",
        "plt.imshow(Recreated_RGB)\n",
        "plt.title(f\"Recreated Frame {index+1}\")"
      ]
    },
    {
      "cell_type": "code",
      "execution_count": null,
      "metadata": {
        "id": "A2eeqX1U86TS"
      },
      "outputs": [],
      "source": [
        "plt.title(f\"Mode No. 0\")\n",
        "plt.imshow(U[:, 0].reshape((rows,columns)) , cmap='seismic', aspect='auto')"
      ]
    },
    {
      "cell_type": "code",
      "execution_count": null,
      "metadata": {
        "id": "nCJ_twnlZ1GK"
      },
      "outputs": [],
      "source": [
        "def Plot_10_Modes(U, rows, columns, cm):\n",
        "  plt.figure(figsize=(15, 20))\n",
        "  for i in range(1,11):\n",
        "    U_single = U[:, i].reshape((rows,columns))\n",
        "    plt.subplot(5,2,i)\n",
        "    plt.imshow(U_single, cmap=cm, aspect='auto')\n",
        "    plt.title(f\"Mode No. {i}\")\n",
        "\n",
        "Plot_10_Modes(U, rows, columns, 'seismic')\n",
        "# save_image(U_8, 'winter', 'plot1.png')"
      ]
    },
    {
      "cell_type": "code",
      "execution_count": null,
      "metadata": {
        "id": "EKMppcms86TT"
      },
      "outputs": [],
      "source": [
        "print(V_T.shape)\n",
        "plt.figure(figsize=(16,4))\n",
        "plt.subplot(1,2,1)\n",
        "plt.bar(range(188), V_T[1,:])\n",
        "plt.title(\"Variation of Mode 2 with time\")\n",
        "plt.xlabel(\"Time\")\n",
        "plt.ylabel(\"V Coefficient\")\n",
        "plt.subplot(1,2,2)\n",
        "plt.bar(range(188), V_T[4,:])\n",
        "plt.title(\"Variation of Mode 5 with time\")\n",
        "plt.xlabel(\"Time\")\n",
        "plt.ylabel(\"V Coefficient\")"
      ]
    },
    {
      "cell_type": "markdown",
      "metadata": {
        "id": "F1rYVQDS183U"
      },
      "source": [
        "# **Noise**"
      ]
    },
    {
      "cell_type": "code",
      "execution_count": null,
      "metadata": {
        "id": "qV34M-PJ86TT"
      },
      "outputs": [],
      "source": [
        "img_path = f\"Fluid Mechanics\\Frame{index}.jpg\"\n",
        "\n",
        "img_test = cv2.imread(img_path)\n",
        "img_test = cv2.cvtColor(img_test, cv2.COLOR_BGR2RGB)\n",
        "percent_noise = 80\n",
        "\n",
        "plt.figure(figsize=(17, 10))\n",
        "plt.subplot(2,2,1)\n",
        "plt.imshow(img_test)\n",
        "plt.title(f\"Original Image {index+1}\")\n",
        "\n",
        "noisy_image = img_test\n",
        "noisy_image, gaussian = GaussianNoise(img_test, percent_noise)\n",
        "# noisy_image = SaltPepperNoise(noisy_image, percent_noise)\n",
        "\n",
        "plt.subplot(2,2,2)\n",
        "plt.imshow(gaussian)\n",
        "plt.title(f\"Gaussian {index+1}\")\n",
        "plt.subplot(2,1,2)\n",
        "plt.imshow(noisy_image)\n",
        "plt.title(f\"Noisy Image {index+1}\")"
      ]
    },
    {
      "cell_type": "code",
      "execution_count": null,
      "metadata": {
        "id": "WzyZfh8d1_rN"
      },
      "outputs": [],
      "source": [
        "# def Optimal_Hard_Threshold(sigma, image_size, eigenvalues):\n",
        "#   Threshold = int(np.floor(2.309*sigma*np.sqrt(image_size)))\n",
        "#   n = (eigenvalues > Threshold).sum()\n",
        "#   return n\n",
        "\n",
        "noisy_data = load_video_data(rows, columns, image_size, frames, 'SaltPepper', percent_noise)\n",
        "# noisy_data = load_video_data(rows, columns, image_size, frames, 'Gaussian', percent_noise)"
      ]
    },
    {
      "cell_type": "code",
      "execution_count": null,
      "metadata": {
        "id": "a45AswM186TT"
      },
      "outputs": [],
      "source": [
        "print(noisy_data.shape)\n",
        "print(dataset_original.shape)"
      ]
    },
    {
      "cell_type": "code",
      "execution_count": null,
      "metadata": {
        "id": "ZHHovCCA86TT"
      },
      "outputs": [],
      "source": [
        "\n",
        "noisy_hsv = HSV_Processing(noisy_data)\n",
        "nA = Scaling(noisy_hsv)\n",
        "nU, nE, nV_T, n_eigenvalues = SVD(nA, frames)\n",
        "nN = Required_Modes(0.1, n_eigenvalues, True, True)\n",
        "# nN = Optimal_Hard_Threshold(percent_noise, image_size, n_eigenvalues)\n",
        "nReduced = Dim_Reduction(nU,nE,nV_T,nN)\n",
        "noisy_Reduced = Image_Reconstruction(image_size, frames, nReduced)\n",
        "\n",
        "noisy_HSV = noisy_Reduced[:, index, :].reshape((rows,columns,3))\n",
        "\n",
        "noisy_RGB = cv2.cvtColor(noisy_HSV, cv2.COLOR_HSV2RGB)\n",
        "img_BGR = cv2.imread(f'Fluid Mechanics\\Frame{index}.jpg')\n",
        "img_RGB = cv2.cvtColor(img_BGR, cv2.COLOR_BGR2RGB)\n",
        "\n",
        "Recreated_HSV = Images_Reduced[:, index, :].reshape((rows,columns,3))\n",
        "Recreated_RGB = cv2.cvtColor(Recreated_HSV, cv2.COLOR_HSV2RGB)\n",
        "\n",
        "noi = noisy_data[:, index, :].reshape((rows,columns,3))\n",
        "noi = cv2.cvtColor(noi, cv2.COLOR_BGR2RGB)"
      ]
    },
    {
      "cell_type": "code",
      "execution_count": null,
      "metadata": {
        "id": "Ox_y_YNc86TT"
      },
      "outputs": [],
      "source": [
        "plt.figure(figsize=(17, 10))\n",
        "plt.subplot(1,3,1)\n",
        "plt.imshow(img_RGB)\n",
        "plt.title(f\"Original Image {index+1}\")\n",
        "plt.subplot(1,3,2)\n",
        "plt.imshow(noi)\n",
        "plt.title(f\"Noisy Image {index+1}\")\n",
        "plt.subplot(1,3,3)\n",
        "plt.imshow(noisy_RGB)\n",
        "plt.title(f\"Denoised Image {index+1}\")"
      ]
    },
    {
      "cell_type": "code",
      "execution_count": null,
      "metadata": {
        "id": "mmJRtC8d86TT"
      },
      "outputs": [],
      "source": [
        "plt.imshow(nU[:, 0].reshape((rows,columns)), cmap='seismic', aspect='auto')"
      ]
    },
    {
      "cell_type": "code",
      "execution_count": null,
      "metadata": {
        "id": "2g0YZNsq86TT"
      },
      "outputs": [],
      "source": [
        "def Plot_10_Modes(nU, rows, colnumns, cm):\n",
        "  plt.figure(figsize=(15, 20))\n",
        "  for i in range(1,11):\n",
        "    U_single = nU[:, i].reshape((rows,columns))\n",
        "    plt.subplot(5,2,i)\n",
        "    plt.imshow(U_single, cmap=cm, aspect='auto')\n",
        "    plt.title(f\"Mode No. {i}\")\n",
        "\n",
        "Plot_10_Modes(nU, rows, columns, 'seismic')"
      ]
    },
    {
      "cell_type": "markdown",
      "metadata": {
        "id": "2oJVDJPv86TT"
      },
      "source": [
        "# **ML Model**"
      ]
    },
    {
      "cell_type": "code",
      "execution_count": null,
      "metadata": {
        "id": "WoFiv8Of86TU"
      },
      "outputs": [],
      "source": [
        "def resize(img, new_width):\n",
        "    height, width = img.shape[0:2]\n",
        "    ratio = height/width\n",
        "    new_height = int(ratio*new_width)\n",
        "    resized_image = cv2.resize(img, (new_width, new_height), interpolation=cv2.INTER_LINEAR)\n",
        "    return resized_image"
      ]
    },
    {
      "cell_type": "code",
      "execution_count": null,
      "metadata": {
        "id": "DeqRs3ZP86TU"
      },
      "outputs": [],
      "source": [
        "def rectangle_to_square(image):\n",
        "   height, width, channels = image.shape\n",
        "\n",
        "  # Calculate padding amount\n",
        "   padding_top = int((width - height) / 2)\n",
        "   padding_bottom = width - height - padding_top\n",
        "\n",
        "  # Add padding using constant value (0 for black)\n",
        "   padded_image = cv2.copyMakeBorder(image, padding_top, padding_bottom, 0, 0, cv2.BORDER_CONSTANT, value=(0, 0, 0))\n",
        "\n",
        "   return padded_image"
      ]
    },
    {
      "cell_type": "code",
      "execution_count": null,
      "metadata": {
        "id": "Rz6uuh9E86TU"
      },
      "outputs": [],
      "source": [
        "# def ConvertToStacked(data, new_width):\n",
        "#     # stacked_data = np.empty((frames, new_width, new_width, 3))\n",
        "#     img = data[:,0,:].reshape(rows,columns,3)\n",
        "#     img = rectangle_to_square(img)\n",
        "#     img = resize(img, new_width)\n",
        "#     # print(img.shape)\n",
        "#     img = np.round(img).astype('uint8')\n",
        "#     stacked_data = img\n",
        "#     # stacked_data = np.concatenate([stacked_data, img], axis=0)\n",
        "\n",
        "#     for i in range(1, frames):\n",
        "#         img = data[:,i,:].reshape(rows,columns,3)\n",
        "#         img = rectangle_to_square(img)\n",
        "#         img = resize(img, new_width)\n",
        "#         # print(img.shape)\n",
        "#         # if i == 8:\n",
        "#             # plt.imshow(img)\n",
        "#         img = np.round(img).astype('uint8')\n",
        "#         # if i == 8:\n",
        "#             # plt.imshow(img)\n",
        "#         # stacked_data[i,:,:,:] = img\n",
        "#         stacked_data = np.stack([stacked_data, img])\n",
        "\n",
        "#     return stacked_data\n",
        "\n",
        "def ConvertToStacked(data, new_width):\n",
        "  processed_images = []  # List to store processed images\n",
        "\n",
        "  for i in range(frames):\n",
        "    img = data[:, i, :].reshape(rows, columns, 3)\n",
        "    # img = rectangle_to_square(img)\n",
        "    img = resize(img, new_width)\n",
        "    img = np.round(img).astype('uint8')\n",
        "    processed_images.append(img)\n",
        "\n",
        "  stacked_data = np.stack(processed_images)  # Stack processed images into final array\n",
        "\n",
        "  return stacked_data\n",
        "\n",
        "new_width = 779\n",
        "stacked_data_original = ConvertToStacked(dataset_original, new_width)\n",
        "stacked_data_noisy = ConvertToStacked(noisy_data, new_width)\n",
        "print(stacked_data_noisy.shape)\n",
        "print(stacked_data_original.shape)"
      ]
    },
    {
      "cell_type": "code",
      "execution_count": null,
      "metadata": {
        "id": "7vXqBlMu86TU"
      },
      "outputs": [],
      "source": [
        "stacked_data_noisy = np.delete(stacked_data_noisy, [0, stacked_data_noisy.shape[1]-1], 1)\n",
        "stacked_data_noisy = np.delete(stacked_data_noisy, [0, 1, stacked_data_noisy.shape[2]-1], 2)\n",
        "stacked_data_original = np.delete(stacked_data_original, [0, stacked_data_original.shape[1]-1], 1)\n",
        "stacked_data_original = np.delete(stacked_data_original, [0, 1, stacked_data_original.shape[1]-1], 2)\n",
        "# print(stacked_data_noisy.shape)"
      ]
    },
    {
      "cell_type": "code",
      "execution_count": null,
      "metadata": {
        "id": "Ttyt8OnL86TU"
      },
      "outputs": [],
      "source": [
        "f, h, w, ch = stacked_data_original.shape\n",
        "imig = stacked_data_noisy[18].reshape(h, w, 3)\n",
        "imig = cv2.cvtColor(imig, cv2.COLOR_BGR2RGB)\n",
        "plt.imshow(imig, cmap=\"binary\")\n",
        "print(dataset_original.shape)"
      ]
    },
    {
      "cell_type": "code",
      "execution_count": null,
      "metadata": {
        "id": "wnKrS8B886TU"
      },
      "outputs": [],
      "source": [
        "stacked_data_original = stacked_data_original.astype('float32') / 255.\n",
        "stacked_data_noisy = stacked_data_noisy.astype('float32') / 255.\n",
        "\n",
        "x_train_noisy, x_test_noisy, x_train, x_test = train_test_split(stacked_data_noisy, stacked_data_original)\n",
        "\n",
        "f, h, w, ch = stacked_data_original.shape"
      ]
    },
    {
      "cell_type": "code",
      "execution_count": null,
      "metadata": {
        "id": "n-JoNTfJ86TU"
      },
      "outputs": [],
      "source": [
        "\n",
        "# print(h)\n",
        "# print(w)\n",
        "# print(f)\n",
        "\n",
        "model = Sequential()\n",
        "model.add(Conv2D(32, (3, 3), activation='relu', padding='same', input_shape=(h, w, ch)))\n",
        "model.add(MaxPooling2D((2, 2), padding='same'))\n",
        "model.add(Conv2D(8, (3, 3), activation='relu', padding='same'))\n",
        "model.add(MaxPooling2D((2, 2), padding='same'))\n",
        "model.add(Conv2D(8, (3, 3), activation='relu', padding='same'))\n",
        "\n",
        "\n",
        "model.add(MaxPooling2D((2, 2), padding='same'))\n",
        "\n",
        "model.add(Conv2D(8, (3, 3), activation='relu', padding='same'))\n",
        "model.add(UpSampling2D((2, 2)))\n",
        "model.add(Conv2D(8, (3, 3), activation='relu', padding='same'))\n",
        "model.add(UpSampling2D((2, 2)))\n",
        "model.add(Conv2D(32, (3, 3), activation='relu', padding='same'))\n",
        "model.add(UpSampling2D((2, 2)))\n",
        "model.add(Conv2D(3, (3, 3), activation='relu', padding='same'))\n",
        "\n",
        "model.compile(optimizer='adam', loss='mean_squared_error', metrics=['accuracy'])\n",
        "\n",
        "model.summary()"
      ]
    },
    {
      "cell_type": "code",
      "execution_count": null,
      "metadata": {
        "id": "3avPuIfr86TU"
      },
      "outputs": [],
      "source": [
        "# f, h, w, ch = stacked_data_original.shape\n",
        "# imig = x_train_noisy[0].reshape(h, w, 3)\n",
        "# imig = cv2.cvtColor(imig, cv2.COLOR_BGR2RGB)\n",
        "# plt.imshow(imig, cmap=\"binary\")"
      ]
    },
    {
      "cell_type": "code",
      "execution_count": null,
      "metadata": {
        "id": "QQ_YTtTl86TV"
      },
      "outputs": [],
      "source": [
        "model.fit(x_train_noisy, x_train, epochs=20, batch_size=1, shuffle=True,\n",
        "          validation_data=(x_test_noisy, x_test))\n",
        "\n",
        "model.evaluate(x_test_noisy, x_test)\n",
        "no_noise_img = model.predict(x_test_noisy)"
      ]
    },
    {
      "cell_type": "code",
      "execution_count": null,
      "metadata": {
        "id": "A6NLMnU586TV"
      },
      "outputs": [],
      "source": [
        "print(x_test.shape)"
      ]
    },
    {
      "cell_type": "code",
      "execution_count": null,
      "metadata": {
        "id": "qqv_oenl86TV"
      },
      "outputs": [],
      "source": [
        "from math import log10, sqrt\n",
        "def PSNR(original, compressed):\n",
        "    mse = np.mean((original - compressed) ** 2)\n",
        "    if(mse == 0):  # MSE is zero means no noise is present in the signal .\n",
        "                  # Therefore PSNR have no importance.\n",
        "        return 100\n",
        "    max_pixel = 255.0\n",
        "    psnr = 20 * log10(max_pixel / sqrt(mse))\n",
        "    return psnr\n",
        "\n",
        "AvgPSNR_noisy = 0\n",
        "AvgPSNR_denoised = 0\n",
        "\n",
        "for i in range(x_test.shape[0]):\n",
        "    AvgPSNR_noisy += PSNR(x_test[i].reshape(h, w, 3), x_test_noisy[i].reshape(h, w, 3))\n",
        "    AvgPSNR_denoised += PSNR(x_test[i].reshape(h, w, 3), no_noise_img[i].reshape(h, w, 3))\n",
        "AvgPSNR_noisy = AvgPSNR_noisy/f\n",
        "AvgPSNR_denoised = AvgPSNR_denoised/f\n",
        "print(AvgPSNR_noisy)\n",
        "print(AvgPSNR_denoised)"
      ]
    },
    {
      "cell_type": "code",
      "execution_count": null,
      "metadata": {
        "id": "e-JpZkSx86TV"
      },
      "outputs": [],
      "source": [
        "plt.figure(figsize=(8, 24))\n",
        "# plt.suptitle(\"Recreating Frames using AutoEncoder\")\n",
        "for i in range(3, 13, 2):\n",
        "    plt.subplot(10, 2, i)\n",
        "    igm = x_test_noisy[i].reshape(h, w, 3)\n",
        "    igm = cv2.cvtColor(igm, cv2.COLOR_BGR2RGB)\n",
        "    plt.imshow(igm, cmap=\"binary\")\n",
        "    plt.title(\"Noisy Image\")\n",
        "\n",
        "    plt.subplot(10, 2, i+1)\n",
        "    igm = no_noise_img[i].reshape(h, w, 3)\n",
        "    igm = cv2.cvtColor(igm, cv2.COLOR_BGR2RGB)\n",
        "    plt.imshow(igm, cmap=\"binary\")\n",
        "    plt.title(\"Reconstructed Image\")\n",
        "\n",
        "plt.tight_layout()  # Adjust spacing between subplots\n",
        "# fig.tight_layout()\n",
        "# plt.subplots_adjust(top=0.88)\n",
        "plt.show()"
      ]
    }
  ],
  "metadata": {
    "accelerator": "GPU",
    "colab": {
      "gpuType": "T4",
      "provenance": []
    },
    "kernelspec": {
      "display_name": "Python 3",
      "name": "python3"
    },
    "language_info": {
      "codemirror_mode": {
        "name": "ipython",
        "version": 3
      },
      "file_extension": ".py",
      "mimetype": "text/x-python",
      "name": "python",
      "nbconvert_exporter": "python",
      "pygments_lexer": "ipython3",
      "version": "3.11.9"
    }
  },
  "nbformat": 4,
  "nbformat_minor": 0
}